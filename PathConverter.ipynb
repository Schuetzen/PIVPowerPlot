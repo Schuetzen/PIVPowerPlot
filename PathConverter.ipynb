{
 "cells": [
  {
   "cell_type": "code",
   "execution_count": 1,
   "metadata": {},
   "outputs": [
    {
     "name": "stdout",
     "output_type": "stream",
     "text": [
      "Converted Path: G:/PIV_compare/Bubble_in_chain/12012023_Pylon_RaspPi_Cam\n"
     ]
    }
   ],
   "source": [
    "def convert_path(path):\n",
    "    \"\"\"\n",
    "    Convert a file path with backslashes to forward slashes.\n",
    "    \"\"\"\n",
    "    return path.replace('\\\\', '/')\n",
    "\n",
    "# Example usage\n",
    "original_path = input(\"Enter the folder path with backslashes: \")\n",
    "\n",
    "directory = convert_path(original_path)\n",
    "\n",
    "print(\"Converted Path:\", directory)\n"
   ]
  }
 ],
 "metadata": {
  "kernelspec": {
   "display_name": "base",
   "language": "python",
   "name": "python3"
  },
  "language_info": {
   "codemirror_mode": {
    "name": "ipython",
    "version": 3
   },
   "file_extension": ".py",
   "mimetype": "text/x-python",
   "name": "python",
   "nbconvert_exporter": "python",
   "pygments_lexer": "ipython3",
   "version": "3.11.5"
  }
 },
 "nbformat": 4,
 "nbformat_minor": 2
}
