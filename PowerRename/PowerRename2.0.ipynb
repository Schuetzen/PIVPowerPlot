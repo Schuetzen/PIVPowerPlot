{
 "cells": [
  {
   "cell_type": "code",
   "execution_count": 7,
   "metadata": {},
   "outputs": [
    {
     "name": "stdout",
     "output_type": "stream",
     "text": [
      "Converted Path: \"G:/PIV_compare/Bubble_in_chain/12012023_Pylon_RaspPi_Cam/Calibration.bmp\"\n"
     ]
    }
   ],
   "source": [
    "def convert_path(path):\n",
    "    \"\"\"\n",
    "    Convert a file path with backslashes to forward slashes.\n",
    "    \"\"\"\n",
    "    return path.replace('\\\\', '/')\n",
    "\n",
    "# Example usage\n",
    "original_path = input(\"Enter the folder path with backslashes: \")\n",
    "\n",
    "directory = convert_path(original_path)\n",
    "\n",
    "print(\"Converted Path:\", directory)\n"
   ]
  },
  {
   "cell_type": "code",
   "execution_count": 4,
   "metadata": {},
   "outputs": [
    {
     "name": "stdout",
     "output_type": "stream",
     "text": [
      "Renaming complete.\n",
      "Files have been renamed successfully.\n"
     ]
    }
   ],
   "source": [
    "import os\n",
    "import re\n",
    "\n",
    "# Set the directory\n",
    "# directory = \"G:/PIV_compare/Bubble_Seep/01082024__Phantom_High_Speed_Cam/SeepTest4\"\n",
    "\n",
    "# Function to custom sort the file names\n",
    "def custom_sort(file_name):\n",
    "    base, suffix = re.match(r\"(.+?)(\\(\\d+\\))?\\.\", file_name).groups()\n",
    "    return (base, 0 if suffix is None else 1)\n",
    "\n",
    "# Find all .tif files and sort them using the custom sort function\n",
    "files = [f for f in os.listdir(directory) if f.endswith('.tif')]\n",
    "files.sort(key=custom_sort)\n",
    "\n",
    "# Initialize the counter\n",
    "counter = 0\n",
    "\n",
    "# Rename the files\n",
    "for file in files:\n",
    "    # Determine the new file name\n",
    "    new_name = f\"Img{counter:06d}.tif\"\n",
    "    \n",
    "    # Rename the file\n",
    "    os.rename(os.path.join(directory, file), os.path.join(directory, new_name))\n",
    "    \n",
    "    # Update the counter; even numbers for files without suffix, odd for those with (2)\n",
    "    counter += 2 if \"(2)\" not in file else 1\n",
    "\n",
    "print(\"Renaming complete.\")\n",
    "\n",
    "file_list = [f for f in os.listdir(directory) if re.match(r'Img\\d{6}\\.tif', f)]\n",
    "\n",
    "# 对文件进行排序\n",
    "file_list.sort()\n",
    "\n",
    "# 初始化计数器\n",
    "counter = 0\n",
    "\n",
    "# 遍历并重命名文件\n",
    "for file_name in file_list:\n",
    "    # 构造新的文件名\n",
    "    new_name = f'Img{counter:06d}.tif'\n",
    "    \n",
    "    # 构造完整的旧文件名和新文件名路径\n",
    "    old_file = os.path.join(directory, file_name)\n",
    "    new_file = os.path.join(directory, new_name)\n",
    "\n",
    "    # 重命名文件\n",
    "    os.rename(old_file, new_file)\n",
    "\n",
    "    # 更新计数器\n",
    "    counter += 1\n",
    "\n",
    "print(\"Files have been renamed successfully.\")\n"
   ]
  }
 ],
 "metadata": {
  "kernelspec": {
   "display_name": "base",
   "language": "python",
   "name": "python3"
  },
  "language_info": {
   "codemirror_mode": {
    "name": "ipython",
    "version": 3
   },
   "file_extension": ".py",
   "mimetype": "text/x-python",
   "name": "python",
   "nbconvert_exporter": "python",
   "pygments_lexer": "ipython3",
   "version": "3.11.5"
  }
 },
 "nbformat": 4,
 "nbformat_minor": 2
}
