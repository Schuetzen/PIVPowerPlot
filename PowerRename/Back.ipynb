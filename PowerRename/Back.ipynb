{
 "cells": [
  {
   "cell_type": "code",
   "execution_count": 1,
   "metadata": {},
   "outputs": [
    {
     "name": "stdout",
     "output_type": "stream",
     "text": [
      "Files have been renamed successfully.\n"
     ]
    }
   ],
   "source": [
    "import os\n",
    "import re\n",
    "\n",
    "# 设置文件夹路径\n",
    "directory = '../bubble_in_chain_PIV_compare'\n",
    "\n",
    "# 获取所有以 'Img' 开头并以 '.tif' 结尾的文件\n",
    "file_list = [f for f in os.listdir(directory) if re.match(r'Img\\d{6}\\.tif', f)]\n",
    "\n",
    "# 对文件进行排序\n",
    "file_list.sort()\n",
    "\n",
    "# 初始化计数器\n",
    "counter = 0\n",
    "\n",
    "# 遍历并重命名文件\n",
    "for file_name in file_list:\n",
    "    # 构造新的文件名\n",
    "    new_name = f'Img{counter:06d}.tif'\n",
    "    \n",
    "    # 构造完整的旧文件名和新文件名路径\n",
    "    old_file = os.path.join(directory, file_name)\n",
    "    new_file = os.path.join(directory, new_name)\n",
    "\n",
    "    # 重命名文件\n",
    "    os.rename(old_file, new_file)\n",
    "\n",
    "    # 更新计数器\n",
    "    counter += 1\n",
    "\n",
    "print(\"Files have been renamed successfully.\")\n"
   ]
  }
 ],
 "metadata": {
  "kernelspec": {
   "display_name": "base",
   "language": "python",
   "name": "python3"
  },
  "language_info": {
   "codemirror_mode": {
    "name": "ipython",
    "version": 3
   },
   "file_extension": ".py",
   "mimetype": "text/x-python",
   "name": "python",
   "nbconvert_exporter": "python",
   "pygments_lexer": "ipython3",
   "version": "3.11.5"
  }
 },
 "nbformat": 4,
 "nbformat_minor": 2
}
